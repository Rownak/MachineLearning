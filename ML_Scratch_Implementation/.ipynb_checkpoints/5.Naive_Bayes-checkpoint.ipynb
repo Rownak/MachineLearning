{
 "cells": [
  {
   "cell_type": "code",
   "execution_count": null,
   "id": "c13b3845",
   "metadata": {},
   "outputs": [],
   "source": [
    "# Probalistic Classifier based on applying Baye's theorem with strong indepenence assumption between the features.\n",
    "# Bayes' theorm\n",
    "# P(A|B) = (P(B|A).P(A))/P(B)\n",
    "# P(y|X) = (P(X|y).P(y))/P(X)\n",
    "# X = feature vectors, y = label\n",
    "# Assumption features are mutually independent\n",
    "# Takes bus or walks, Features = rain/not, distance (this two features independent)\n",
    "# P(y|X) = (P(x1|y).P(x2|y)...P(xn|y).P(y))/P(X)\n",
    "# Select class with highest posterior probability\n",
    "# y = argmax_y(P(y|X))\n",
    "#  y = argmax_y(P(x1|y).P(x2|y)....P(Xn|y).P(y))\n",
    "# As the prob. are between 0-1, multiplying those can result in very small number thus inaccurate result\n",
    "# y = argmax_y log(P(x1|y))+lob(P(x2|y)+....+log(P(Xn|y))+log(P(y)))\n",
    "# how to calculate P(x1|y) and P(Y)\n",
    "# Prior and class conditional\n",
    "# P(y) prior prob. -- frequency of each class\n"
   ]
  },
  {
   "cell_type": "code",
   "execution_count": null,
   "id": "4f88f7aa",
   "metadata": {},
   "outputs": [],
   "source": []
  }
 ],
 "metadata": {
  "kernelspec": {
   "display_name": "Python 3 (ipykernel)",
   "language": "python",
   "name": "python3"
  },
  "language_info": {
   "codemirror_mode": {
    "name": "ipython",
    "version": 3
   },
   "file_extension": ".py",
   "mimetype": "text/x-python",
   "name": "python",
   "nbconvert_exporter": "python",
   "pygments_lexer": "ipython3",
   "version": "3.7.6"
  }
 },
 "nbformat": 4,
 "nbformat_minor": 5
}
