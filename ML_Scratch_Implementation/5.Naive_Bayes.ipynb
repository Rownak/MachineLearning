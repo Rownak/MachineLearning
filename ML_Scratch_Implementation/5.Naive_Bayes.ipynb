{
 "cells": [
  {
   "cell_type": "code",
   "execution_count": null,
   "id": "8bf82c46",
   "metadata": {},
   "outputs": [],
   "source": [
    "# Probalistic Classifier based on applying Baye's theorem with strong indepenence assumption between the features.\n",
    "# Bayes' theorm\n",
    "# P(A|B) = (P(B|A).P(A))/P(B)\n",
    "# P(y|X) = (P(X|y).P(y))/P(X)\n",
    "# X = feature vectors, y = label\n",
    "# Assumption features are mutually independent\n",
    "# Takes bus or walks, Features = rain/not, distance (this two features independent)\n",
    "# P(y|X) = (P(x1|y).P(x2|y)...P(xn|y).P(y))/P(X)\n",
    "# Select class with highest posterior probability\n",
    "# y = argmax_y(P(y|X))\n",
    "# y = argmax_y(P(x1|y).P(x2|y)....P(Xn|y).P(y))\n",
    "# As the prob. are between 0-1, multiplying those can result in very small number thus inaccurate result\n",
    "# y = argmax_y log(P(x1|y))+lob(P(x2|y)+....+log(P(Xn|y))+log(P(y)))\n",
    "# how to calculate P(x1|y) and P(Y)\n",
    "# Prior and class conditional\n",
    "# P(y) prior prob. -- frequency of each class\n",
    "# P(xi|y) class condi prob. -- Model with gausssian\n",
    "# P(xi|y) = 1/(sqrt(2.pi.sigma^2_y)).exp(-(xi-mu_y)^2/2.sigma^2_y)"
   ]
  },
  {
   "cell_type": "code",
   "execution_count": 1,
   "id": "65909654",
   "metadata": {},
   "outputs": [],
   "source": [
    "# Steps:\n",
    "# Training:\n",
    "#     Calculate mean, var, and prior freq. for each class\n",
    "# Predictions:\n",
    "#     calculate posterior for each class with\n",
    "#     y = argmax_y log(P(x1|y))+lob(P(x2|y)+....+log(P(Xn|y))+log(P(y)))\n",
    "#     and Gaussian formula\n",
    "# Choose class with highest posterior prob."
   ]
  },
  {
   "cell_type": "code",
   "execution_count": 2,
   "id": "13f2a54f",
   "metadata": {},
   "outputs": [],
   "source": [
    "import numpy as np"
   ]
  },
  {
   "cell_type": "code",
   "execution_count": 18,
   "id": "fb5f4e14",
   "metadata": {},
   "outputs": [],
   "source": [
    "class NaiveBayes:\n",
    "    def fit(self, X,y):\n",
    "        n_samples, n_features = X.shape\n",
    "        self._classes = np.unique(y)\n",
    "        n_classes = len(self._classes)\n",
    "        \n",
    "        # calculate mean, var, and prior\n",
    "        \n",
    "        self._mean = np.zeros((n_classes, n_features), dtype=np.float64)\n",
    "        self._var = np.zeros((n_classes, n_features), dtype=np.float64)\n",
    "        self._priors = np.zeros(n_classes, dtype=np.float64)\n",
    "        print(self._priors.shape)\n",
    "        for idx, c in enumerate(self._classes):\n",
    "            X_c = X[y==c]\n",
    "            self._mean[idx,:]=X_c.mean(axis=0)\n",
    "            self._var[idx,:]=X_c.var(axis=0)\n",
    "            self._priors[idx] = X_c.shape[0]/float(n_samples)\n",
    "        \n",
    "    def predict(self,X):\n",
    "        y_pred = [self._predict(x) for x in X]\n",
    "        return np.array(y_pred)\n",
    "    def _predict(self,x):\n",
    "        posteriors = []\n",
    "        \n",
    "        # calculate posterior probability for  each class\n",
    "        for idx, c in enumerate(self._classes):\n",
    "            prior = np.log(self._priors[idx])\n",
    "            posterior = np.sum(np.log(self._pdf(idx,x)))\n",
    "            posterior = posterior+prior\n",
    "            posteriors.append(posterior)\n",
    "        # return class with highest posterior\n",
    "        return self._classes[np.argmax(posteriors)]\n",
    "    def _pdf(self,class_idx, x):\n",
    "        mean = self._mean[class_idx]\n",
    "        var = self._var[class_idx]\n",
    "        # P(xi|y) = 1/(sqrt(2.pi.sigma^2)).exp(-(xi-mu_y)^2/2.sigma^2.y)\n",
    "        numerator = np.exp(-((x-mean)**2)/(2*var))\n",
    "        denominator = np.sqrt(2*np.pi*var)\n",
    "        return numerator/denominator"
   ]
  },
  {
   "cell_type": "code",
   "execution_count": 19,
   "id": "6888386b",
   "metadata": {},
   "outputs": [],
   "source": [
    "from sklearn.model_selection import train_test_split\n",
    "from sklearn import datasets\n",
    "\n",
    "def accuracy(y_true, y_pred):\n",
    "    accuracy = np.sum(y_true==y_pred)/len(y_true)\n",
    "    return accuracy\n",
    "\n",
    "X, y = datasets.make_classification(n_samples=1000, n_features=10, n_classes=2, random_state=123)\n",
    "X_train, X_test, y_train, y_test = train_test_split(X, y, random_state=123, train_size=0.2)\n",
    "\n",
    "    "
   ]
  },
  {
   "cell_type": "code",
   "execution_count": 20,
   "id": "9d5c1d28",
   "metadata": {},
   "outputs": [
    {
     "name": "stdout",
     "output_type": "stream",
     "text": [
      "(2,)\n",
      "0.94625\n"
     ]
    }
   ],
   "source": [
    "nb = NaiveBayes()\n",
    "nb.fit(X_train,y_train)\n",
    "predictions = nb.predict(X_test)\n",
    "print(accuracy(y_test, predictions))"
   ]
  },
  {
   "cell_type": "code",
   "execution_count": null,
   "id": "e2f86b87",
   "metadata": {},
   "outputs": [],
   "source": []
  }
 ],
 "metadata": {
  "kernelspec": {
   "display_name": "Python 3 (ipykernel)",
   "language": "python",
   "name": "python3"
  },
  "language_info": {
   "codemirror_mode": {
    "name": "ipython",
    "version": 3
   },
   "file_extension": ".py",
   "mimetype": "text/x-python",
   "name": "python",
   "nbconvert_exporter": "python",
   "pygments_lexer": "ipython3",
   "version": "3.7.6"
  }
 },
 "nbformat": 4,
 "nbformat_minor": 5
}
